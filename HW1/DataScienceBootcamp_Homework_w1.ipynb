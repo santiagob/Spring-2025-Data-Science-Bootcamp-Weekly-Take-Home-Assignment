{
 "cells": [
  {
   "cell_type": "markdown",
   "metadata": {},
   "source": [
    "# Take-Home Assignment Week 1\n",
    "## Santiago Bernheim\n",
    "\n",
    "1.⁠ ⁠Display Fibonacci Series upto 10 terms\n"
   ]
  },
  {
   "cell_type": "code",
   "execution_count": 21,
   "metadata": {},
   "outputs": [
    {
     "name": "stdout",
     "output_type": "stream",
     "text": [
      "0\n",
      "1\n",
      "1\n",
      "2\n",
      "3\n",
      "5\n",
      "8\n",
      "13\n",
      "21\n",
      "34\n"
     ]
    }
   ],
   "source": [
    "a = 0\n",
    "b = 1\n",
    "\n",
    "for _ in range(10):\n",
    "    print(a)\n",
    "    a, b = b, a+b\n"
   ]
  },
  {
   "cell_type": "markdown",
   "metadata": {},
   "source": [
    "2.⁠ ⁠Display numbers at the odd indices of a list"
   ]
  },
  {
   "cell_type": "code",
   "execution_count": 68,
   "metadata": {},
   "outputs": [
    {
     "name": "stdout",
     "output_type": "stream",
     "text": [
      "[1, 3, 5, 7, 9]\n"
     ]
    }
   ],
   "source": [
    "example_list = [1, 2, 3, 4, 5, 6, 7, 8, 9, 10]\n",
    "print(example_list[::2])"
   ]
  },
  {
   "cell_type": "markdown",
   "metadata": {},
   "source": [
    "3.⁠ ⁠⁠string = \"\"\"\n",
    "I have provided this text to provide tips on creating interesting paragraphs.\n",
    "First, start with a clear topic sentence that introduces the main idea.\n",
    "Then, support the topic sentence with specific details, examples, and evidence.\n",
    "Vary the sentence length and structure to keep the reader engaged.\n",
    "Finally, end with a strong concluding sentence that summarizes the main points.\n",
    "Remember, practice makes perfect!\n",
    "\"\"\"\n",
    "#Your task is to count the number of different words in this text\n"
   ]
  },
  {
   "cell_type": "code",
   "execution_count": 49,
   "metadata": {},
   "outputs": [
    {
     "name": "stdout",
     "output_type": "stream",
     "text": [
      "The string has 47 different words\n"
     ]
    }
   ],
   "source": [
    "string = \"\"\"\n",
    "I have provided this text to provide tips on creating interesting paragraphs.\n",
    "First, start with a clear topic sentence that introduces the main idea.\n",
    "Then, support the topic sentence with specific details, examples, and evidence.\n",
    "Vary the sentence length and structure to keep the reader engaged.\n",
    "Finally, end with a strong concluding sentence that summarizes the main points.\n",
    "Remember, practice makes perfect!\n",
    "\"\"\"\n",
    "dict = {} # Dictionary to count the apearances of each word\n",
    "\n",
    "for word in string.upper().replace(\",\", \"\").replace(\"!\",\"\").replace(\".\",\"\").split():\n",
    "    if word in dict:\n",
    "        dict[word] += 1\n",
    "    else:\n",
    "        dict[word] = 1\n",
    "        \n",
    "print(\"The string has \" + str(len(dict)) + \" different words\")"
   ]
  },
  {
   "cell_type": "markdown",
   "metadata": {},
   "source": [
    "4.⁠ ⁠Write a function count_vowels(word) that takes a word as an argument and returns the number of vowels in the word\n"
   ]
  },
  {
   "cell_type": "code",
   "execution_count": null,
   "metadata": {},
   "outputs": [
    {
     "name": "stdout",
     "output_type": "stream",
     "text": [
      "popular\n",
      "Popular has 3 vowels.\n",
      "hour\n",
      "Hour has 2 vowels.\n",
      "engineering\n",
      "Engineering has 5 vowels.\n"
     ]
    }
   ],
   "source": [
    "def count_vowel(word):\n",
    "    vowels = ['a', 'e', 'i', 'o', 'u']\n",
    "    count = 0\n",
    "    for letter in list(word.lower()):\n",
    "        if letter in vowels:\n",
    "            count+=1\n",
    "    return count\n",
    "            \n",
    "print(\"Popular has \" + str(count_vowel(\"Popular\")) + \" vowels.\")\n",
    "print(\"Hour has \" + str(count_vowel(\"Hour\")) + \" vowels.\")\n",
    "print(\"Engineering has \" + str(count_vowel(\"Engineering\")) + \" vowels.\")"
   ]
  },
  {
   "cell_type": "markdown",
   "metadata": {},
   "source": [
    "5.⁠ ⁠Iterate through the following list of animals and print each one in all caps.\n",
    "animals=['tiger', 'elephant', 'monkey', 'zebra', 'panther']"
   ]
  },
  {
   "cell_type": "code",
   "execution_count": 52,
   "metadata": {},
   "outputs": [
    {
     "name": "stdout",
     "output_type": "stream",
     "text": [
      "TIGER\n",
      "ELEPHANT\n",
      "MONKEY\n",
      "ZEBRA\n",
      "PANTHER\n"
     ]
    }
   ],
   "source": [
    "animals=['tiger', 'elephant', 'monkey', 'zebra', 'panther']\n",
    "\n",
    "for animal in animals:\n",
    "    print(animal.upper())"
   ]
  },
  {
   "cell_type": "markdown",
   "metadata": {},
   "source": [
    "6.⁠ ⁠Write a program that iterates from 1 to 20, printing each number and whether it's odd or even."
   ]
  },
  {
   "cell_type": "code",
   "execution_count": 59,
   "metadata": {},
   "outputs": [
    {
     "name": "stdout",
     "output_type": "stream",
     "text": [
      "1 Odd\n",
      "2 Even \n",
      "3 Odd\n",
      "4 Even \n",
      "5 Odd\n",
      "6 Even \n",
      "7 Odd\n",
      "8 Even \n",
      "9 Odd\n",
      "10 Even \n",
      "11 Odd\n",
      "12 Even \n",
      "13 Odd\n",
      "14 Even \n",
      "15 Odd\n",
      "16 Even \n",
      "17 Odd\n",
      "18 Even \n",
      "19 Odd\n",
      "20 Even \n"
     ]
    }
   ],
   "source": [
    "for i in range(1, 21):\n",
    "    print(str(i) + \" \" + (\"Even \" if ((i % 2) == 0) else \"Odd\"))"
   ]
  },
  {
   "cell_type": "markdown",
   "metadata": {},
   "source": [
    "7.⁠ ⁠Write a function sum_of_integers(a, b) that takes two integers as input from the user and returns their sum."
   ]
  },
  {
   "cell_type": "code",
   "execution_count": 67,
   "metadata": {},
   "outputs": [
    {
     "name": "stdout",
     "output_type": "stream",
     "text": [
      "302 + 234 = 536\n",
      "24 + 789 = 813\n",
      "0 + 99 = 99\n",
      "1 + 23 = 24\n"
     ]
    }
   ],
   "source": [
    "def sum_of_integers(a, b):\n",
    "    return (a+b)\n",
    "\n",
    "import random\n",
    "nums = ((302,234), (24,789), (0,99), (1,23))\n",
    "for i, j in nums:\n",
    "    print(str(i)+ \" + \" + str(j) + \" = \" + str(sum_of_integers(i,j)))"
   ]
  }
 ],
 "metadata": {
  "kernelspec": {
   "display_name": "myenv",
   "language": "python",
   "name": "python3"
  },
  "language_info": {
   "codemirror_mode": {
    "name": "ipython",
    "version": 3
   },
   "file_extension": ".py",
   "mimetype": "text/x-python",
   "name": "python",
   "nbconvert_exporter": "python",
   "pygments_lexer": "ipython3",
   "version": "3.13.2"
  }
 },
 "nbformat": 4,
 "nbformat_minor": 2
}
