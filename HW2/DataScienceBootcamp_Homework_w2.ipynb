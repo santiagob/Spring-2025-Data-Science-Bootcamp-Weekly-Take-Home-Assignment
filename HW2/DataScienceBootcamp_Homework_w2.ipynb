{
 "cells": [
  {
   "cell_type": "markdown",
   "metadata": {},
   "source": [
    "# Take-Home Assignment Week 2\n",
    "## Santiago Bernheim\n",
    "\n",
    "### Part 1 - Numpy\n",
    "Use this dataset for the first 4 questions.\n",
    "url = 'https://archive.ics.uci.edu/ml/machine-learning-databases/iris/iris.data'\n",
    "iris_2d = np.genfromtxt(url, delimiter=',', dtype='float', usecols=[0,1,2,3])\n",
    "\n",
    "\n",
    "\n"
   ]
  },
  {
   "cell_type": "markdown",
   "metadata": {},
   "source": [
    "1.⁠ ⁠Define two custom numpy arrays, say A and B. Generate two new numpy arrays by stacking A and B vertically and horizontally."
   ]
  },
  {
   "cell_type": "code",
   "execution_count": 44,
   "metadata": {},
   "outputs": [
    {
     "name": "stdout",
     "output_type": "stream",
     "text": [
      "Vertical Stack:\n",
      " [[ 1  2  3]\n",
      " [ 4  5  6]\n",
      " [ 7  8  9]\n",
      " [10 11 12]]\n",
      "\n",
      "Horizontal Stack:\n",
      " [[ 1  2  3  7  8  9]\n",
      " [ 4  5  6 10 11 12]]\n"
     ]
    }
   ],
   "source": [
    "import numpy as np\n",
    "\n",
    "# Define custom NumPy arrays\n",
    "A = np.array([[1, 2, 3],\n",
    "              [4, 5, 6]])\n",
    "\n",
    "B = np.array([[7, 8, 9], \n",
    "              [10, 11, 12]])\n",
    "\n",
    "# Vertical stacking\n",
    "vertical_stack = np.vstack((A, B))\n",
    "print(\"Vertical Stack:\\n\", vertical_stack)\n",
    "\n",
    "# Horizontal stacking\n",
    "horizontal_stack = np.hstack((A, B))\n",
    "print(\"\\nHorizontal Stack:\\n\", horizontal_stack)"
   ]
  },
  {
   "cell_type": "markdown",
   "metadata": {},
   "source": [
    "2.⁠ ⁠Find common elements between A and B. [Hint : Intersection of two sets]"
   ]
  },
  {
   "cell_type": "code",
   "execution_count": 45,
   "metadata": {},
   "outputs": [
    {
     "name": "stdout",
     "output_type": "stream",
     "text": [
      "\n",
      "Common Elements:\n",
      " []\n",
      "\n",
      "Common Elements between A2 and B2:\n",
      " [3 6]\n"
     ]
    }
   ],
   "source": [
    "# Find common elements (intersection)\n",
    "common_elements = np.intersect1d(A, B)\n",
    "print(\"\\nCommon Elements:\\n\", common_elements)\n",
    "\n",
    "#Example where there are common elements\n",
    "A2 = np.array([1,2,3,4,5,6])\n",
    "B2 = np.array([3,6,9,12,15])\n",
    "\n",
    "common_elements2 = np.intersect1d(A2, B2)\n",
    "print(\"\\nCommon Elements between A2 and B2:\\n\", common_elements2)"
   ]
  },
  {
   "cell_type": "markdown",
   "metadata": {},
   "source": [
    "3.⁠ ⁠Extract all numbers from A which are within a specific range. eg between 5 and 10. [Hint: np.where() might be useful or boolean masks]"
   ]
  },
  {
   "cell_type": "code",
   "execution_count": 46,
   "metadata": {},
   "outputs": [
    {
     "name": "stdout",
     "output_type": "stream",
     "text": [
      "Elements in range [5, 10] (using np.where()):\n",
      " [5 6]\n",
      "Elements in range [5, 10] (using boolean masks):\n",
      " [5 6]\n",
      "Elements in A3 range [10, 20] (using np.where()):\n",
      " [11 14 17 20]\n",
      "Elements in A3 range [10, 20] (using boolean masks):\n",
      " [11 14 17 20]\n"
     ]
    }
   ],
   "source": [
    "# Extract numbers between 5 and 10 (inclusive) from A\n",
    "range_start = 5\n",
    "range_end = 10\n",
    "\n",
    "# Method 1: Using np.where()\n",
    "indices = np.where((A >= range_start) & (A <= range_end))\n",
    "elements_in_range_where = A[indices]\n",
    "print(f\"Elements in range [{range_start}, {range_end}] (using np.where()):\\n\", elements_in_range_where)\n",
    "\n",
    "# Method 2: Using boolean masks\n",
    "mask = (A >= range_start) & (A <= range_end)\n",
    "elements_in_range_mask = A[mask]\n",
    "print(f\"Elements in range [{range_start}, {range_end}] (using boolean masks):\\n\", elements_in_range_mask)\n",
    "\n",
    "#Example with a different array and range.\n",
    "A3 = np.array([2,5,8,11,14,17,20,23])\n",
    "range_start2 = 10\n",
    "range_end2 = 20\n",
    "\n",
    "indices2 = np.where((A3 >= range_start2) & (A3 <= range_end2))\n",
    "elements_in_range_where2 = A3[indices2]\n",
    "print(f\"Elements in A3 range [{range_start2}, {range_end2}] (using np.where()):\\n\", elements_in_range_where2)\n",
    "\n",
    "mask2 = (A3 >= range_start2) & (A3 <= range_end2)\n",
    "elements_in_range_mask2 = A3[mask2]\n",
    "print(f\"Elements in A3 range [{range_start2}, {range_end2}] (using boolean masks):\\n\", elements_in_range_mask2)"
   ]
  },
  {
   "cell_type": "markdown",
   "metadata": {},
   "source": [
    "4.⁠ ⁠Filter the rows of iris_2d that has petallength (3rd column) > 1.5 and sepallength (1st column) < 5.0"
   ]
  },
  {
   "cell_type": "code",
   "execution_count": 47,
   "metadata": {},
   "outputs": [
    {
     "name": "stdout",
     "output_type": "stream",
     "text": [
      "The filtered array with petallength (3rd column) > 1.5 and sepallength (1st column) < 5.0 is:\n",
      "[[4.8 3.4 1.6 0.2]\n",
      " [4.8 3.4 1.9 0.2]\n",
      " [4.7 3.2 1.6 0.2]\n",
      " [4.8 3.1 1.6 0.2]\n",
      " [4.9 2.4 3.3 1. ]\n",
      " [4.9 2.5 4.5 1.7]]\n"
     ]
    }
   ],
   "source": [
    "url = 'https://archive.ics.uci.edu/ml/machine-learning-databases/iris/iris.data'\n",
    "iris_2d = np.genfromtxt(url, delimiter=',', dtype='float', usecols=[0,1,2,3])\n",
    "\n",
    "mask = np.logical_and(iris_2d[:, 2] > 1.5, iris_2d[:, 0] < 5.0)\n",
    "\n",
    "filtered_cols = iris_2d[mask]\n",
    "\n",
    "print(\"The filtered array with petallength (3rd column) > 1.5 and sepallength (1st column) < 5.0 is:\")\n",
    "print(filtered_cols)"
   ]
  },
  {
   "cell_type": "markdown",
   "metadata": {},
   "source": [
    "\n",
    "### Part 2 - Pandas\n",
    "\n",
    "1.⁠ ⁠From df filter the 'Manufacturer', 'Model' and 'Type' for every 20th row starting from 1st (row 0)."
   ]
  },
  {
   "cell_type": "code",
   "execution_count": 48,
   "metadata": {},
   "outputs": [
    {
     "name": "stdout",
     "output_type": "stream",
     "text": [
      "The filtered DATA is:\n",
      "   Manufacturer    Model     Type\n",
      "0         Acura  Integra    Small\n",
      "20     Chrysler  LeBaron  Compact\n",
      "40        Honda  Prelude   Sporty\n",
      "60      Mercury   Cougar  Midsize\n",
      "80       Subaru   Loyale    Small\n"
     ]
    }
   ],
   "source": [
    "import pandas as pd\n",
    "df = pd.read_csv('https://raw.githubusercontent.com/selva86/datasets/master/Cars93_miss.csv')\n",
    "\n",
    "filtered_df = df.iloc[::20][['Manufacturer', 'Model', 'Type']]\n",
    "\n",
    "print(\"The filtered DATA is:\")\n",
    "\n",
    "print(filtered_df)"
   ]
  },
  {
   "cell_type": "markdown",
   "metadata": {},
   "source": [
    "2.⁠ ⁠Replace missing values in Min.Price and Max.Price columns with their respective mean."
   ]
  },
  {
   "cell_type": "code",
   "execution_count": 49,
   "metadata": {},
   "outputs": [
    {
     "name": "stdout",
     "output_type": "stream",
     "text": [
      "   Manufacturer    Model     Type  Min.Price  Price  Max.Price  MPG.city  \\\n",
      "0         Acura  Integra    Small  12.900000   15.9  18.800000      25.0   \n",
      "1           NaN   Legend  Midsize  29.200000   33.9  38.700000      18.0   \n",
      "2          Audi       90  Compact  25.900000   29.1  32.300000      20.0   \n",
      "3          Audi      100  Midsize  17.118605   37.7  44.600000      19.0   \n",
      "4           BMW     535i  Midsize  17.118605   30.0  21.459091      22.0   \n",
      "..          ...      ...      ...        ...    ...        ...       ...   \n",
      "88   Volkswagen  Eurovan      Van  16.600000   19.7  22.700000      17.0   \n",
      "89   Volkswagen   Passat  Compact  17.600000   20.0  22.400000      21.0   \n",
      "90   Volkswagen  Corrado   Sporty  22.900000   23.3  23.700000      18.0   \n",
      "91        Volvo      240  Compact  21.800000   22.7  23.500000      21.0   \n",
      "92          NaN      850  Midsize  24.800000   26.7  28.500000      20.0   \n",
      "\n",
      "    MPG.highway             AirBags DriveTrain  ... Passengers  Length  \\\n",
      "0          31.0                 NaN      Front  ...        5.0   177.0   \n",
      "1          25.0  Driver & Passenger      Front  ...        5.0   195.0   \n",
      "2          26.0         Driver only      Front  ...        5.0   180.0   \n",
      "3          26.0  Driver & Passenger        NaN  ...        6.0   193.0   \n",
      "4          30.0                 NaN       Rear  ...        4.0   186.0   \n",
      "..          ...                 ...        ...  ...        ...     ...   \n",
      "88         21.0                 NaN      Front  ...        7.0   187.0   \n",
      "89         30.0                 NaN      Front  ...        5.0   180.0   \n",
      "90         25.0                 NaN      Front  ...        4.0   159.0   \n",
      "91         28.0         Driver only       Rear  ...        5.0   190.0   \n",
      "92         28.0  Driver & Passenger      Front  ...        5.0   184.0   \n",
      "\n",
      "    Wheelbase  Width  Turn.circle Rear.seat.room  Luggage.room  Weight  \\\n",
      "0       102.0   68.0         37.0           26.5           NaN  2705.0   \n",
      "1       115.0   71.0         38.0           30.0          15.0  3560.0   \n",
      "2       102.0   67.0         37.0           28.0          14.0  3375.0   \n",
      "3       106.0    NaN         37.0           31.0          17.0  3405.0   \n",
      "4       109.0   69.0         39.0           27.0          13.0  3640.0   \n",
      "..        ...    ...          ...            ...           ...     ...   \n",
      "88      115.0   72.0         38.0           34.0           NaN  3960.0   \n",
      "89      103.0   67.0         35.0           31.5          14.0  2985.0   \n",
      "90       97.0   66.0         36.0           26.0          15.0  2810.0   \n",
      "91      104.0   67.0         37.0           29.5          14.0  2985.0   \n",
      "92      105.0   69.0         38.0           30.0          15.0  3245.0   \n",
      "\n",
      "     Origin                Make  \n",
      "0   non-USA       Acura Integra  \n",
      "1   non-USA        Acura Legend  \n",
      "2   non-USA             Audi 90  \n",
      "3   non-USA            Audi 100  \n",
      "4   non-USA            BMW 535i  \n",
      "..      ...                 ...  \n",
      "88      NaN  Volkswagen Eurovan  \n",
      "89  non-USA   Volkswagen Passat  \n",
      "90  non-USA  Volkswagen Corrado  \n",
      "91  non-USA           Volvo 240  \n",
      "92  non-USA           Volvo 850  \n",
      "\n",
      "[93 rows x 27 columns]\n"
     ]
    },
    {
     "name": "stderr",
     "output_type": "stream",
     "text": [
      "/var/folders/4c/654xyldd6qgb9x6zjs5gt9mm0000gn/T/ipykernel_54105/909119990.py:3: FutureWarning: A value is trying to be set on a copy of a DataFrame or Series through chained assignment using an inplace method.\n",
      "The behavior will change in pandas 3.0. This inplace method will never work because the intermediate object on which we are setting values always behaves as a copy.\n",
      "\n",
      "For example, when doing 'df[col].method(value, inplace=True)', try using 'df.method({col: value}, inplace=True)' or df[col] = df[col].method(value) instead, to perform the operation inplace on the original object.\n",
      "\n",
      "\n",
      "  df_2['Max.Price'].fillna(df['Max.Price'].mean(), inplace= True)\n",
      "/var/folders/4c/654xyldd6qgb9x6zjs5gt9mm0000gn/T/ipykernel_54105/909119990.py:4: FutureWarning: A value is trying to be set on a copy of a DataFrame or Series through chained assignment using an inplace method.\n",
      "The behavior will change in pandas 3.0. This inplace method will never work because the intermediate object on which we are setting values always behaves as a copy.\n",
      "\n",
      "For example, when doing 'df[col].method(value, inplace=True)', try using 'df.method({col: value}, inplace=True)' or df[col] = df[col].method(value) instead, to perform the operation inplace on the original object.\n",
      "\n",
      "\n",
      "  df_2['Min.Price'].fillna(df['Min.Price'].mean(), inplace= True)\n"
     ]
    }
   ],
   "source": [
    "df_2 = pd.read_csv('https://raw.githubusercontent.com/selva86/datasets/master/Cars93_miss.csv')\n",
    "\n",
    "df_2['Max.Price'].fillna(df['Max.Price'].mean(), inplace= True)\n",
    "df_2['Min.Price'].fillna(df['Min.Price'].mean(), inplace= True)\n",
    "\n",
    "print(df_2)"
   ]
  },
  {
   "cell_type": "markdown",
   "metadata": {},
   "source": [
    "3.⁠ ⁠How to get the rows of a dataframe with row sum > 100?"
   ]
  },
  {
   "cell_type": "code",
   "execution_count": 50,
   "metadata": {},
   "outputs": [
    {
     "name": "stdout",
     "output_type": "stream",
     "text": [
      "     0   1   2   3\n",
      "4   36  27  34  11\n",
      "6   28  29  15  31\n",
      "7   27  17  30  29\n",
      "11  33  34  17  19\n",
      "12  29  36  21  19\n"
     ]
    }
   ],
   "source": [
    "df_3  = pd.DataFrame(np.random.randint(10, 40, 60).reshape(-1, 4))\n",
    "row_summed = df_3.sum(axis=1) # genereate sum for each row.\n",
    "filtered_df_3 = df_3[row_summed > 100]\n",
    "print(filtered_df_3)"
   ]
  }
 ],
 "metadata": {
  "kernelspec": {
   "display_name": "myenv",
   "language": "python",
   "name": "python3"
  },
  "language_info": {
   "codemirror_mode": {
    "name": "ipython",
    "version": 3
   },
   "file_extension": ".py",
   "mimetype": "text/x-python",
   "name": "python",
   "nbconvert_exporter": "python",
   "pygments_lexer": "ipython3",
   "version": "3.13.2"
  }
 },
 "nbformat": 4,
 "nbformat_minor": 2
}
